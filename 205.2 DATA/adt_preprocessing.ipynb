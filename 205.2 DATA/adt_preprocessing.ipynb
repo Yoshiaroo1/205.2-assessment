{
 "cells": [
  {
   "cell_type": "code",
   "execution_count": 1,
   "id": "b1424060",
   "metadata": {},
   "outputs": [
    {
     "name": "stdout",
     "output_type": "stream",
     "text": [
      "origional shape: (13093, 23)\n",
      "Columns: ['OBJECTID', 'carr_way_no', 'road_id', 'road_name', 'start_name', 'end_name', 'location', 'latest', 'count_date', 'peak_hour', 'count_duration', 'adt', 'peaktraffic', 'pccar', 'pclcv', 'pcmcv', 'pchcvi', 'pchcvii', 'pcbus', 'pcheavy', 'NZTMX', 'NZTMY', 'geometry']\n"
     ]
    }
   ],
   "source": [
    "import geopandas as gpd\n",
    "import pandas as pd\n",
    "import numpy as np\n",
    "import os\n",
    "\n",
    "#file path\n",
    "fp = r\"C:\\Users\\renhu\\OneDrive\\Desktop\\205.2 DATA\\rawdata\\Average_Daily_Traffic_Counts.geojson\"\n",
    "\n",
    "#read file\n",
    "traffic = gpd.read_file(fp)\n",
    "print(\"origional shape:\", traffic.shape)\n",
    "print(\"Columns:\", list(traffic.columns))\n",
    "\n",
    "#keep columns \n",
    "keep_cols = [ \"road_id\", \"road_name\", \"start_name\", \"end_name\",\n",
    "    \"location\", \"latest\", \"count_date\", \"peak_hour\",\n",
    "    \"adt\", \"peaktraffic\",\n",
    "    \"pccar\", \"pclcv\", \"pcmcv\", \"pchcvi\", \"pchcvii\", \"pcbus\", \"pcheavy\",\n",
    "    \"geometry\"\n",
    "]\n",
    "traffic = traffic[[col for col in keep_cols if col in traffic.columns]].copy()\n"
   ]
  },
  {
   "cell_type": "code",
   "execution_count": 2,
   "id": "c78b4815",
   "metadata": {},
   "outputs": [
    {
     "data": {
      "text/plain": [
       "peaktraffic    3251\n",
       "peak_hour      3217\n",
       "pcbus          1182\n",
       "pchcvii        1174\n",
       "pcheavy        1076\n",
       "pccar          1076\n",
       "pclcv          1076\n",
       "pcmcv          1076\n",
       "pchcvi         1076\n",
       "location        298\n",
       "adt             119\n",
       "end_name         68\n",
       "start_name       55\n",
       "road_name         1\n",
       "road_id           0\n",
       "count_date        0\n",
       "latest            0\n",
       "geometry          0\n",
       "dtype: int64"
      ]
     },
     "execution_count": 2,
     "metadata": {},
     "output_type": "execute_result"
    }
   ],
   "source": [
    "traffic.isna().sum().sort_values(ascending=False)"
   ]
  },
  {
   "cell_type": "code",
   "execution_count": 3,
   "id": "4d0c093f",
   "metadata": {},
   "outputs": [
    {
     "data": {
      "text/plain": [
       "13093"
      ]
     },
     "execution_count": 3,
     "metadata": {},
     "output_type": "execute_result"
    }
   ],
   "source": [
    "traffic.geometry.is_valid.sum(), len(traffic)\n",
    "traffic.geometry.notnull().sum()"
   ]
  },
  {
   "cell_type": "code",
   "execution_count": 4,
   "id": "68632bd9",
   "metadata": {},
   "outputs": [
    {
     "data": {
      "text/plain": [
       "119"
      ]
     },
     "execution_count": 4,
     "metadata": {},
     "output_type": "execute_result"
    }
   ],
   "source": [
    "traffic[\"adt\"].dtype\n",
    "traffic[\"adt\"].head(10)\n",
    "traffic[\"adt\"].unique()[:10]  # or .sample(10)\n",
    "traffic[\"adt\"].isna().sum()"
   ]
  },
  {
   "cell_type": "code",
   "execution_count": 5,
   "id": "627bfdc9",
   "metadata": {},
   "outputs": [
    {
     "name": "stdout",
     "output_type": "stream",
     "text": [
      "Clean shape: (12974, 18)\n"
     ]
    }
   ],
   "source": [
    "traffic = traffic.dropna(subset=[\"adt\", \"geometry\"])\n",
    "print(\"Clean shape:\", traffic.shape)"
   ]
  },
  {
   "cell_type": "code",
   "execution_count": 6,
   "id": "a0b6ccf9",
   "metadata": {},
   "outputs": [
    {
     "name": "stdout",
     "output_type": "stream",
     "text": [
      "Latest column unique values: ['Yes']\n",
      "Final cleaned dataset saved!\n",
      "Shape: (12974, 17)\n"
     ]
    }
   ],
   "source": [
    "#impute missing vehicle category percentages with median\n",
    "pct_cols = [\"pccar\", \"pclcv\", \"pcmcv\", \"pchcvi\", \"pchcvii\", \"pcbus\", \"pcheavy\"]\n",
    "traffic[pct_cols] = traffic[pct_cols].apply(lambda x: x.fillna(x.median()))\n",
    "\n",
    "#fill missing location names\n",
    "traffic[\"location\"] = traffic[\"location\"].fillna(\"unknown\")\n",
    "\n",
    "#drop peak_hour (too many missing)\n",
    "traffic = traffic.drop(columns=[\"peak_hour\"])\n",
    "\n",
    "#impute peaktraffic with median\n",
    "traffic[\"peaktraffic\"] = traffic[\"peaktraffic\"].fillna(traffic[\"peaktraffic\"].median())\n",
    "\n",
    "#check 'latest' before filtering\n",
    "if \"latest\" in traffic.columns:\n",
    "    print(\"Latest column unique values:\", traffic[\"latest\"].unique())\n",
    "    #filter if 'Y' exists\n",
    "    if \"Y\" in traffic[\"latest\"].unique():\n",
    "        traffic = traffic[traffic[\"latest\"] == \"Y\"]\n",
    "\n",
    "#reset index\n",
    "traffic.reset_index(drop=True, inplace=True)\n",
    "\n",
    "#save\n",
    "processed_folder = r\"C:\\Users\\renhu\\OneDrive\\Desktop\\205.2 DATA\\processed\"\n",
    "os.makedirs(processed_folder, exist_ok=True)\n",
    "output_file = os.path.join(processed_folder, \"Average_Daily_Traffic_Clean.geojson\")\n",
    "traffic.to_file(output_file, driver=\"GeoJSON\")\n",
    "\n",
    "print(\"Final cleaned dataset saved!\")\n",
    "print(\"Shape:\", traffic.shape)\n"
   ]
  },
  {
   "cell_type": "code",
   "execution_count": 7,
   "id": "c7db17c9",
   "metadata": {},
   "outputs": [],
   "source": [
    "#clean up texts \n",
    "text_cols = [\"road_name\", \"start_name\", \"end_name\", \"location\"]\n",
    "for col in text_cols:\n",
    "    if col in traffic.columns:\n",
    "        traffic[col] = traffic[col].astype(str).str.strip().str.lower().replace(\"nan\", np.nan)"
   ]
  },
  {
   "cell_type": "code",
   "execution_count": 8,
   "id": "dddeee48",
   "metadata": {},
   "outputs": [],
   "source": [
    "num_cols = [\"adt\", \"peaktraffic\", \"pccar\", \"pclcv\", \"pcmcv\", \"pchcvi\", \"pchcvii\", \"pcbus\", \"pcheavy\"]\n",
    "\n",
    "for col in num_cols:\n",
    "    if col in traffic.columns:\n",
    "        #convert to numeric, coerce errors to NaN\n",
    "        traffic[col] = pd.to_numeric(traffic[col], errors=\"coerce\")\n",
    "\n",
    "#impute remaining missing with median\n",
    "traffic[num_cols] = traffic[num_cols].fillna(traffic[num_cols].median())\n",
    "        "
   ]
  },
  {
   "cell_type": "code",
   "execution_count": 19,
   "id": "37c99b2f",
   "metadata": {},
   "outputs": [
    {
     "name": "stdout",
     "output_type": "stream",
     "text": [
      "Roadworks shape: (2519, 15)\n",
      "Roadworks Columns: ['OBJECTID', 'WorksiteCode', 'WorksiteName', 'ProjectName', 'Status', 'WorksiteType', 'Shape__Area', 'Shape__Length', 'PrincipalOrganisation', 'ProjectStartDate', 'ProjectEndDate', 'WorkStartDate', 'WorkCompletionDate', 'WorkStatus', 'geometry']\n"
     ]
    }
   ],
   "source": [
    "import geopandas as gpd \n",
    "import pandas as pd\n",
    "import numpy as np\n",
    "import os       \n",
    "\n",
    "# file path for roadworks\n",
    "roadworks_fp = r\"C:\\Users\\mathe\\Downloads\\Roadworks (1).geojson\"\n",
    "\n",
    "# Read the roadworks dataset\n",
    "roadworks = gpd.read_file(roadworks_fp)\n",
    "print(\"Roadworks shape:\", roadworks.shape)\n",
    "print(\"Roadworks Columns:\", list(roadworks.columns))\n"
   ]
  },
  {
   "cell_type": "code",
   "execution_count": 20,
   "id": "4140a79b",
   "metadata": {},
   "outputs": [
    {
     "name": "stdout",
     "output_type": "stream",
     "text": [
      "Roadworks shape after keeping relevant columns: (2519, 6)\n",
      "kept columns: ['WorksiteName', 'Status', 'WorksiteType', 'PrincipalOrganisation', 'WorkStatus', 'geometry']\n"
     ]
    }
   ],
   "source": [
    "# Keeping the relevant columns\n",
    "roadworks_keep_cols = [\n",
    "    \"WorksiteName\",\n",
    "    \"StartDate\",\n",
    "    \"EndDate\", \n",
    "    \"Status\",\n",
    "    \"WorksiteType\",\n",
    "    \"PrincipalOrganisation\",\n",
    "    \"WorkStatus\",\n",
    "    \"geometry\"\n",
    "]\n",
    "\n",
    "roadworks = roadworks[[col for col in roadworks_keep_cols if col in roadworks.columns]].copy()\n",
    "print(\"Roadworks shape after keeping relevant columns:\", roadworks.shape)\n",
    "print(\"kept columns:\", list(roadworks.columns))"
   ]
  },
  {
   "cell_type": "code",
   "execution_count": 21,
   "id": "238f4783",
   "metadata": {},
   "outputs": [
    {
     "name": "stdout",
     "output_type": "stream",
     "text": [
      "\n",
      "Missing values in roadworks data:\n",
      "WorksiteName             0\n",
      "Status                   0\n",
      "WorksiteType             0\n",
      "PrincipalOrganisation    0\n",
      "WorkStatus               0\n",
      "geometry                 0\n",
      "dtype: int64\n",
      "\n",
      "Valid geometries: 2519 out of 2519\n"
     ]
    }
   ],
   "source": [
    "# Data quality checks\n",
    "print(\"\\nMissing values in roadworks data:\")\n",
    "print(roadworks.isnull().sum().sort_values(ascending=False))\n",
    "\n",
    "print(f\"\\nValid geometries: {roadworks.geometry.is_valid.sum()} out of {len(roadworks)}\")"
   ]
  },
  {
   "cell_type": "code",
   "execution_count": null,
   "id": "f2b67e6b",
   "metadata": {},
   "outputs": [
    {
     "name": "stdout",
     "output_type": "stream",
     "text": [
      "\n",
      "After cleaning text columns:\n",
      "                                        WorksiteName  Status    WorksiteType  \\\n",
      "0           85 custom street east, auckland central.  active  non-excavation   \n",
      "1  39 hinemoa street, birkenhead - tree maintaine...  active  non-excavation   \n",
      "2                         ho128- manukau road, epsom  active  non-excavation   \n",
      "3          55 tauhinu rd, greenhithe  m.0193675.h.25  active      excavation   \n",
      "4  2406 – 022epa - sky - 20 waimana ave, northcot...  active      excavation   \n",
      "\n",
      "    PrincipalOrganisation        WorkStatus  \n",
      "0  shundi customs limited           started  \n",
      "1        auckland council  pending warranty  \n",
      "2        auckland council           started  \n",
      "3          vector limited    ready to start  \n",
      "4            fuxuan zhang           started  \n"
     ]
    }
   ],
   "source": [
    "# Cleaning the text columns\n",
    "text_cols = [\n",
    "    \"WorksiteName\",\n",
    "    \"Status\",\n",
    "    \"WorksiteType\",\n",
    "    \"PrincipalOrganisation\",\n",
    "    \"WorkStatus\",\n",
    "    \"StartDate\",\n",
    "    \"EndDate\",\n",
    "]\n",
    "\n",
    "for col in text_cols:\n",
    "    roadworks[col] = roadworks[col].str.strip().str.lower()\n",
    "    roadworks[col] = roadworks[col].replace(\"nan\", np.nan)\n",
    "\n",
    "print(\"\\nAfter cleaning text columns:\")\n",
    "print(roadworks[text_cols].head())"
   ]
  },
  {
   "cell_type": "code",
   "execution_count": 40,
   "id": "d7b6898f",
   "metadata": {},
   "outputs": [
    {
     "name": "stdout",
     "output_type": "stream",
     "text": [
      "Column 'StartDate' not found in roadworks DataFrame.\n",
      "Column 'EndDate' not found in roadworks DataFrame.\n",
      "\n",
      "After converting date columns:\n",
      "Series([], dtype: object)\n"
     ]
    }
   ],
   "source": [
    "# Handle date columns\n",
    "date_cols = [\"StartDate\", \"EndDate\"]\n",
    "for col in date_cols:\n",
    "\tif col in roadworks.columns:\n",
    "\t\troadworks[col] = pd.to_datetime(roadworks[col], errors=\"coerce\")\n",
    "\telse:\n",
    "\t\tprint(f\"Column '{col}' not found in roadworks DataFrame.\")\n",
    "print(\"\\nAfter converting date columns:\")\n",
    "print(roadworks[[col for col in date_cols if col in roadworks.columns]].dtypes)"
   ]
  },
  {
   "cell_type": "code",
   "execution_count": 25,
   "id": "20c20183",
   "metadata": {},
   "outputs": [
    {
     "name": "stdout",
     "output_type": "stream",
     "text": [
      "\n",
      "After handling missing values and creating new features:\n",
      "                                        WorksiteName  Status    WorksiteType  \\\n",
      "0           85 custom street east, auckland central.  active  non-excavation   \n",
      "1  39 hinemoa street, birkenhead - tree maintaine...  active  non-excavation   \n",
      "2                         ho128- manukau road, epsom  active  non-excavation   \n",
      "3          55 tauhinu rd, greenhithe  m.0193675.h.25  active      excavation   \n",
      "4  2406 – 022epa - sky - 20 waimana ave, northcot...  active      excavation   \n",
      "\n",
      "    PrincipalOrganisation        WorkStatus  \\\n",
      "0  shundi customs limited           started   \n",
      "1        auckland council  pending warranty   \n",
      "2        auckland council           started   \n",
      "3          vector limited    ready to start   \n",
      "4            fuxuan zhang           started   \n",
      "\n",
      "                                            geometry WorkStatus_Simple  \n",
      "0  POLYGON ((174.76882 -36.84511, 174.77029 -36.8...            active  \n",
      "1  POLYGON ((174.73634 -36.81924, 174.7371 -36.81...             other  \n",
      "2  POLYGON ((174.77294 -36.89925, 174.77338 -36.8...            active  \n",
      "3  POLYGON ((174.67371 -36.78044, 174.67494 -36.7...            active  \n",
      "4  POLYGON ((174.74808 -36.81239, 174.74868 -36.8...            active  \n",
      "\n",
      "After handling missing values and creating new features:\n",
      "                                        WorksiteName  Status    WorksiteType  \\\n",
      "0           85 custom street east, auckland central.  active  non-excavation   \n",
      "1  39 hinemoa street, birkenhead - tree maintaine...  active  non-excavation   \n",
      "2                         ho128- manukau road, epsom  active  non-excavation   \n",
      "3          55 tauhinu rd, greenhithe  m.0193675.h.25  active      excavation   \n",
      "4  2406 – 022epa - sky - 20 waimana ave, northcot...  active      excavation   \n",
      "\n",
      "    PrincipalOrganisation        WorkStatus  \\\n",
      "0  shundi customs limited           started   \n",
      "1        auckland council  pending warranty   \n",
      "2        auckland council           started   \n",
      "3          vector limited    ready to start   \n",
      "4            fuxuan zhang           started   \n",
      "\n",
      "                                            geometry WorkStatus_Simple  \n",
      "0  POLYGON ((174.76882 -36.84511, 174.77029 -36.8...            active  \n",
      "1  POLYGON ((174.73634 -36.81924, 174.7371 -36.81...             other  \n",
      "2  POLYGON ((174.77294 -36.89925, 174.77338 -36.8...            active  \n",
      "3  POLYGON ((174.67371 -36.78044, 174.67494 -36.7...            active  \n",
      "4  POLYGON ((174.74808 -36.81239, 174.74868 -36.8...            active  \n",
      "\n",
      "After handling missing values and creating new features:\n",
      "                                        WorksiteName  Status    WorksiteType  \\\n",
      "0           85 custom street east, auckland central.  active  non-excavation   \n",
      "1  39 hinemoa street, birkenhead - tree maintaine...  active  non-excavation   \n",
      "2                         ho128- manukau road, epsom  active  non-excavation   \n",
      "3          55 tauhinu rd, greenhithe  m.0193675.h.25  active      excavation   \n",
      "4  2406 – 022epa - sky - 20 waimana ave, northcot...  active      excavation   \n",
      "\n",
      "    PrincipalOrganisation        WorkStatus  \\\n",
      "0  shundi customs limited           started   \n",
      "1        auckland council  pending warranty   \n",
      "2        auckland council           started   \n",
      "3          vector limited    ready to start   \n",
      "4            fuxuan zhang           started   \n",
      "\n",
      "                                            geometry WorkStatus_Simple  \n",
      "0  POLYGON ((174.76882 -36.84511, 174.77029 -36.8...            active  \n",
      "1  POLYGON ((174.73634 -36.81924, 174.7371 -36.81...             other  \n",
      "2  POLYGON ((174.77294 -36.89925, 174.77338 -36.8...            active  \n",
      "3  POLYGON ((174.67371 -36.78044, 174.67494 -36.7...            active  \n",
      "4  POLYGON ((174.74808 -36.81239, 174.74868 -36.8...            active  \n",
      "\n",
      "After handling missing values and creating new features:\n",
      "                                        WorksiteName  Status    WorksiteType  \\\n",
      "0           85 custom street east, auckland central.  active  non-excavation   \n",
      "1  39 hinemoa street, birkenhead - tree maintaine...  active  non-excavation   \n",
      "2                         ho128- manukau road, epsom  active  non-excavation   \n",
      "3          55 tauhinu rd, greenhithe  m.0193675.h.25  active      excavation   \n",
      "4  2406 – 022epa - sky - 20 waimana ave, northcot...  active      excavation   \n",
      "\n",
      "    PrincipalOrganisation        WorkStatus  \\\n",
      "0  shundi customs limited           started   \n",
      "1        auckland council  pending warranty   \n",
      "2        auckland council           started   \n",
      "3          vector limited    ready to start   \n",
      "4            fuxuan zhang           started   \n",
      "\n",
      "                                            geometry WorkStatus_Simple  \n",
      "0  POLYGON ((174.76882 -36.84511, 174.77029 -36.8...            active  \n",
      "1  POLYGON ((174.73634 -36.81924, 174.7371 -36.81...             other  \n",
      "2  POLYGON ((174.77294 -36.89925, 174.77338 -36.8...            active  \n",
      "3  POLYGON ((174.67371 -36.78044, 174.67494 -36.7...            active  \n",
      "4  POLYGON ((174.74808 -36.81239, 174.74868 -36.8...            active  \n",
      "\n",
      "After handling missing values and creating new features:\n",
      "                                        WorksiteName  Status    WorksiteType  \\\n",
      "0           85 custom street east, auckland central.  active  non-excavation   \n",
      "1  39 hinemoa street, birkenhead - tree maintaine...  active  non-excavation   \n",
      "2                         ho128- manukau road, epsom  active  non-excavation   \n",
      "3          55 tauhinu rd, greenhithe  m.0193675.h.25  active      excavation   \n",
      "4  2406 – 022epa - sky - 20 waimana ave, northcot...  active      excavation   \n",
      "\n",
      "    PrincipalOrganisation        WorkStatus  \\\n",
      "0  shundi customs limited           started   \n",
      "1        auckland council  pending warranty   \n",
      "2        auckland council           started   \n",
      "3          vector limited    ready to start   \n",
      "4            fuxuan zhang           started   \n",
      "\n",
      "                                            geometry WorkStatus_Simple  \n",
      "0  POLYGON ((174.76882 -36.84511, 174.77029 -36.8...            active  \n",
      "1  POLYGON ((174.73634 -36.81924, 174.7371 -36.81...             other  \n",
      "2  POLYGON ((174.77294 -36.89925, 174.77338 -36.8...            active  \n",
      "3  POLYGON ((174.67371 -36.78044, 174.67494 -36.7...            active  \n",
      "4  POLYGON ((174.74808 -36.81239, 174.74868 -36.8...            active  \n"
     ]
    }
   ],
   "source": [
    "# Handle missing values and creating new features\n",
    "categorical_cols = [\n",
    "    \"WorksiteName\",\n",
    "    \"Status\",\n",
    "    \"WorksiteType\",\n",
    "    \"PrincipalOrganisation\",\n",
    "    \"WorkStatus\",\n",
    "] \n",
    "for col in categorical_cols:\n",
    "    roadworks[col] = roadworks[col].fillna(\"unknown\")\n",
    "\n",
    "    if \"WorkStatus\" in roadworks.columns:\n",
    "        roadworks[\"WorkStatus_Simple\"] = roadworks[\"WorkStatus\"].apply(\n",
    "            lambda x: \"active\" if \"start\" in str(x) else\n",
    "            \"planned\" if \"planned\" in str(x) else \n",
    "             \"completed\" if \"complete\" in str(x) else \n",
    "             \"other\"\n",
    "        )\n",
    "\n",
    "    roadworks.reset_index(drop=True, inplace=True)\n",
    "    print(\"\\nAfter handling missing values and creating new features:\")\n",
    "    print(roadworks.head())\n"
   ]
  },
  {
   "cell_type": "code",
   "execution_count": 26,
   "id": "7d30f97e",
   "metadata": {},
   "outputs": [
    {
     "name": "stdout",
     "output_type": "stream",
     "text": [
      "Cleaned roadworks dataset saved!\n",
      "Shape: (2519, 7)\n",
      "Columns: ['WorksiteName', 'Status', 'WorksiteType', 'PrincipalOrganisation', 'WorkStatus', 'geometry', 'WorkStatus_Simple']\n",
      "\n",
      "Roadworks Summary:\n",
      "                                            WorksiteName  Status WorksiteType  \\\n",
      "count                                               2519    2519         2519   \n",
      "unique                                              2512       2            3   \n",
      "top     25_151_00-fibre - william pickering dr, rosedale  active   excavation   \n",
      "freq                                                   2    2516         1829   \n",
      "\n",
      "       PrincipalOrganisation WorkStatus  \\\n",
      "count                   2519       2519   \n",
      "unique                   823          6   \n",
      "top       auckland transport    started   \n",
      "freq                     450       1560   \n",
      "\n",
      "                                                 geometry WorkStatus_Simple  \n",
      "count                                                2519              2519  \n",
      "unique                                               2519                 2  \n",
      "top     POLYGON ((174.768818010773 -36.8451109099744, ...            active  \n",
      "freq                                                    1              2301  \n",
      "\n",
      "WorksiteType Value Counts:\n",
      "WorksiteType\n",
      "excavation        1829\n",
      "non-excavation     623\n",
      "event               67\n",
      "Name: count, dtype: int64\n",
      "\n",
      "Status Value Counts:\n",
      "Status\n",
      "active     2516\n",
      "on hold       3\n",
      "Name: count, dtype: int64\n",
      "\n",
      "WorkStatus_Simple Value Counts:\n",
      "WorkStatus_Simple\n",
      "active    2301\n",
      "other      218\n",
      "Name: count, dtype: int64\n"
     ]
    }
   ],
   "source": [
    "# Saving the cleaned roadworks dataset\n",
    "processed_folder = r\"C:\\Users\\mathe\\Documents\\GitHub\\205.2-assessment\\205.2 DATA\\processed\"\n",
    "os.makedirs(processed_folder, exist_ok=True)\n",
    "output_file = os.path.join(processed_folder, \"Roadworks_Clean.geojson\")\n",
    "roadworks.to_file(output_file, driver=\"GeoJSON\")\n",
    "\n",
    "print(\"Cleaned roadworks dataset saved!\")\n",
    "print(\"Shape:\", roadworks.shape)\n",
    "print(\"Columns:\", list(roadworks.columns))\n",
    "\n",
    "print(\"\\nRoadworks Summary:\")\n",
    "print(roadworks.describe(include='all'))\n",
    "if \"WorksiteType\" in roadworks.columns:\n",
    "    print(\"\\nWorksiteType Value Counts:\")\n",
    "    print(roadworks[\"WorksiteType\"].value_counts())\n",
    "if \"Status\" in roadworks.columns:\n",
    "    print(\"\\nStatus Value Counts:\")\n",
    "    print(roadworks[\"Status\"].value_counts())\n",
    "if \"WorkStatus_Simple\" in roadworks.columns:\n",
    "    print(\"\\nWorkStatus_Simple Value Counts:\")\n",
    "    print(roadworks[\"WorkStatus_Simple\"].value_counts())"
   ]
  }
 ],
 "metadata": {
  "kernelspec": {
   "display_name": "base",
   "language": "python",
   "name": "python3"
  },
  "language_info": {
   "codemirror_mode": {
    "name": "ipython",
    "version": 3
   },
   "file_extension": ".py",
   "mimetype": "text/x-python",
   "name": "python",
   "nbconvert_exporter": "python",
   "pygments_lexer": "ipython3",
   "version": "3.12.7"
  }
 },
 "nbformat": 4,
 "nbformat_minor": 5
}
