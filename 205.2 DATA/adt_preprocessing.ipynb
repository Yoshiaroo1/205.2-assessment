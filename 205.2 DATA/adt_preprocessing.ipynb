{
 "cells": [
  {
   "cell_type": "code",
   "execution_count": 1,
   "id": "b1424060",
   "metadata": {},
   "outputs": [
    {
     "name": "stdout",
     "output_type": "stream",
     "text": [
      "origional shape: (13093, 23)\n",
      "Columns: ['OBJECTID', 'carr_way_no', 'road_id', 'road_name', 'start_name', 'end_name', 'location', 'latest', 'count_date', 'peak_hour', 'count_duration', 'adt', 'peaktraffic', 'pccar', 'pclcv', 'pcmcv', 'pchcvi', 'pchcvii', 'pcbus', 'pcheavy', 'NZTMX', 'NZTMY', 'geometry']\n"
     ]
    }
   ],
   "source": [
    "import geopandas as gpd\n",
    "import pandas as pd\n",
    "import numpy as np\n",
    "import os\n",
    "\n",
    "#file path\n",
    "fp = r\"C:\\Users\\renhu\\OneDrive\\Desktop\\205.2 DATA\\rawdata\\Average_Daily_Traffic_Counts.geojson\"\n",
    "\n",
    "#read file\n",
    "traffic = gpd.read_file(fp)\n",
    "print(\"origional shape:\", traffic.shape)\n",
    "print(\"Columns:\", list(traffic.columns))\n",
    "\n",
    "#keep columns \n",
    "keep_cols = [ \"road_id\", \"road_name\", \"start_name\", \"end_name\",\n",
    "    \"location\", \"latest\", \"count_date\", \"peak_hour\",\n",
    "    \"adt\", \"peaktraffic\",\n",
    "    \"pccar\", \"pclcv\", \"pcmcv\", \"pchcvi\", \"pchcvii\", \"pcbus\", \"pcheavy\",\n",
    "    \"geometry\"\n",
    "]\n",
    "traffic = traffic[[col for col in keep_cols if col in traffic.columns]].copy()\n"
   ]
  },
  {
   "cell_type": "code",
   "execution_count": 2,
   "id": "c78b4815",
   "metadata": {},
   "outputs": [
    {
     "data": {
      "text/plain": [
       "peaktraffic    3251\n",
       "peak_hour      3217\n",
       "pcbus          1182\n",
       "pchcvii        1174\n",
       "pcheavy        1076\n",
       "pccar          1076\n",
       "pclcv          1076\n",
       "pcmcv          1076\n",
       "pchcvi         1076\n",
       "location        298\n",
       "adt             119\n",
       "end_name         68\n",
       "start_name       55\n",
       "road_name         1\n",
       "road_id           0\n",
       "count_date        0\n",
       "latest            0\n",
       "geometry          0\n",
       "dtype: int64"
      ]
     },
     "execution_count": 2,
     "metadata": {},
     "output_type": "execute_result"
    }
   ],
   "source": [
    "traffic.isna().sum().sort_values(ascending=False)"
   ]
  },
  {
   "cell_type": "code",
   "execution_count": 3,
   "id": "4d0c093f",
   "metadata": {},
   "outputs": [
    {
     "data": {
      "text/plain": [
       "13093"
      ]
     },
     "execution_count": 3,
     "metadata": {},
     "output_type": "execute_result"
    }
   ],
   "source": [
    "traffic.geometry.is_valid.sum(), len(traffic)\n",
    "traffic.geometry.notnull().sum()"
   ]
  },
  {
   "cell_type": "code",
   "execution_count": 4,
   "id": "68632bd9",
   "metadata": {},
   "outputs": [
    {
     "data": {
      "text/plain": [
       "119"
      ]
     },
     "execution_count": 4,
     "metadata": {},
     "output_type": "execute_result"
    }
   ],
   "source": [
    "traffic[\"adt\"].dtype\n",
    "traffic[\"adt\"].head(10)\n",
    "traffic[\"adt\"].unique()[:10]  # or .sample(10)\n",
    "traffic[\"adt\"].isna().sum()"
   ]
  },
  {
   "cell_type": "code",
   "execution_count": 5,
   "id": "627bfdc9",
   "metadata": {},
   "outputs": [
    {
     "name": "stdout",
     "output_type": "stream",
     "text": [
      "Clean shape: (12974, 18)\n"
     ]
    }
   ],
   "source": [
    "traffic = traffic.dropna(subset=[\"adt\", \"geometry\"])\n",
    "print(\"Clean shape:\", traffic.shape)"
   ]
  },
  {
   "cell_type": "code",
   "execution_count": 6,
   "id": "a0b6ccf9",
   "metadata": {},
   "outputs": [
    {
     "name": "stdout",
     "output_type": "stream",
     "text": [
      "Latest column unique values: ['Yes']\n",
      "Final cleaned dataset saved!\n",
      "Shape: (12974, 17)\n"
     ]
    }
   ],
   "source": [
    "#impute missing vehicle category percentages with median\n",
    "pct_cols = [\"pccar\", \"pclcv\", \"pcmcv\", \"pchcvi\", \"pchcvii\", \"pcbus\", \"pcheavy\"]\n",
    "traffic[pct_cols] = traffic[pct_cols].apply(lambda x: x.fillna(x.median()))\n",
    "\n",
    "#fill missing location names\n",
    "traffic[\"location\"] = traffic[\"location\"].fillna(\"unknown\")\n",
    "\n",
    "#drop peak_hour (too many missing)\n",
    "traffic = traffic.drop(columns=[\"peak_hour\"])\n",
    "\n",
    "#impute peaktraffic with median\n",
    "traffic[\"peaktraffic\"] = traffic[\"peaktraffic\"].fillna(traffic[\"peaktraffic\"].median())\n",
    "\n",
    "#check 'latest' before filtering\n",
    "if \"latest\" in traffic.columns:\n",
    "    print(\"Latest column unique values:\", traffic[\"latest\"].unique())\n",
    "    #filter if 'Y' exists\n",
    "    if \"Y\" in traffic[\"latest\"].unique():\n",
    "        traffic = traffic[traffic[\"latest\"] == \"Y\"]\n",
    "\n",
    "#reset index\n",
    "traffic.reset_index(drop=True, inplace=True)\n",
    "\n",
    "#save\n",
    "processed_folder = r\"C:\\Users\\renhu\\OneDrive\\Desktop\\205.2 DATA\\processed\"\n",
    "os.makedirs(processed_folder, exist_ok=True)\n",
    "output_file = os.path.join(processed_folder, \"Average_Daily_Traffic_Clean.geojson\")\n",
    "traffic.to_file(output_file, driver=\"GeoJSON\")\n",
    "\n",
    "print(\"Final cleaned dataset saved!\")\n",
    "print(\"Shape:\", traffic.shape)\n"
   ]
  },
  {
   "cell_type": "code",
   "execution_count": 7,
   "id": "c7db17c9",
   "metadata": {},
   "outputs": [],
   "source": [
    "#clean up texts \n",
    "text_cols = [\"road_name\", \"start_name\", \"end_name\", \"location\"]\n",
    "for col in text_cols:\n",
    "    if col in traffic.columns:\n",
    "        traffic[col] = traffic[col].astype(str).str.strip().str.lower().replace(\"nan\", np.nan)"
   ]
  },
  {
   "cell_type": "code",
   "execution_count": 8,
   "id": "dddeee48",
   "metadata": {},
   "outputs": [],
   "source": [
    "num_cols = [\"adt\", \"peaktraffic\", \"pccar\", \"pclcv\", \"pcmcv\", \"pchcvi\", \"pchcvii\", \"pcbus\", \"pcheavy\"]\n",
    "\n",
    "for col in num_cols:\n",
    "    if col in traffic.columns:\n",
    "        #convert to numeric, coerce errors to NaN\n",
    "        traffic[col] = pd.to_numeric(traffic[col], errors=\"coerce\")\n",
    "\n",
    "#impute remaining missing with median\n",
    "traffic[num_cols] = traffic[num_cols].fillna(traffic[num_cols].median())\n",
    "        "
   ]
  }
 ],
 "metadata": {
  "kernelspec": {
   "display_name": "base",
   "language": "python",
   "name": "python3"
  },
  "language_info": {
   "codemirror_mode": {
    "name": "ipython",
    "version": 3
   },
   "file_extension": ".py",
   "mimetype": "text/x-python",
   "name": "python",
   "nbconvert_exporter": "python",
   "pygments_lexer": "ipython3",
   "version": "3.12.7"
  }
 },
 "nbformat": 4,
 "nbformat_minor": 5
}
